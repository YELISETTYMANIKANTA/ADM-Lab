{
  "nbformat": 4,
  "nbformat_minor": 0,
  "metadata": {
    "colab": {
      "provenance": [],
      "authorship_tag": "ABX9TyPgWoZS39dlRB/8LBn/dSWn",
      "include_colab_link": true
    },
    "kernelspec": {
      "name": "python3",
      "display_name": "Python 3"
    },
    "language_info": {
      "name": "python"
    }
  },
  "cells": [
    {
      "cell_type": "markdown",
      "metadata": {
        "id": "view-in-github",
        "colab_type": "text"
      },
      "source": [
        "<a href=\"https://colab.research.google.com/github/YELISETTYMANIKANTA/ADM-Lab/blob/main/ADM_ASS_1.ipynb\" target=\"_parent\"><img src=\"https://colab.research.google.com/assets/colab-badge.svg\" alt=\"Open In Colab\"/></a>"
      ]
    },
    {
      "cell_type": "code",
      "execution_count": 11,
      "metadata": {
        "id": "5gPzs_4aX6LQ"
      },
      "outputs": [],
      "source": [
        "import pandas as pd\n",
        "import numpy as np\n",
        "from sklearn.preprocessing import MinMaxScaler, StandardScaler\n",
        "\n"
      ]
    },
    {
      "source": [
        "# Load dataset\n",
        "import pandas as pd # Importing the pandas library, aliased as 'pd'.\n",
        "df = pd.read_csv(\"/content/employee_data.csv\")  # Replace with your actual dataset file\n",
        "print(\"Original Dataset:\")\n",
        "print(df.head())"
      ],
      "cell_type": "code",
      "metadata": {
        "colab": {
          "base_uri": "https://localhost:8080/"
        },
        "id": "xRNdwRAmZbUq",
        "outputId": "c6143891-41cc-4465-a683-0680fbbb4e6d"
      },
      "execution_count": 3,
      "outputs": [
        {
          "output_type": "stream",
          "name": "stdout",
          "text": [
            "Original Dataset:\n",
            "   Employee_ID   Age    Salary  Job_Satisfaction  Work_Hours_Per_Week\n",
            "0         1001  50.0  108953.0               9.0                   36\n",
            "1         1002  36.0   82995.0               8.0                   59\n",
            "2         1003  29.0   70757.0               2.0                   30\n",
            "3         1004  42.0   39692.0               1.0                   30\n",
            "4         1005  40.0   75758.0               7.0                   54\n"
          ]
        }
      ]
    },
    {
      "source": [
        "# Min-Max Scaling\n",
        "from sklearn.preprocessing import MinMaxScaler # Import MinMaxScaler explicitly\n",
        "\n",
        "scaler = MinMaxScaler()\n",
        "df[['Age_Scaled', 'Salary_Scaled']] = scaler.fit_transform(df[['Age', 'Salary']])"
      ],
      "cell_type": "code",
      "metadata": {
        "id": "4EUfcmbyZ8EO"
      },
      "execution_count": 6,
      "outputs": []
    },
    {
      "cell_type": "code",
      "source": [
        "# Manual Min-Max Scaling\n",
        "def min_max_scaling(column):\n",
        "    return (column - column.min()) / (column.max() - column.min())\n",
        "df['Age_Scaled_Manual'] = min_max_scaling(df['Age'])\n",
        "df['Salary_Scaled_Manual'] = min_max_scaling(df['Salary'])\n",
        "\n"
      ],
      "metadata": {
        "id": "28rJS90gZ__p"
      },
      "execution_count": 7,
      "outputs": []
    },
    {
      "source": [
        "# Standardization (Z-score normalization)\n",
        "from sklearn.preprocessing import StandardScaler # Importing StandardScaler\n",
        "\n",
        "std_scaler = StandardScaler()\n",
        "df[['Job_Satisfaction_Std', 'Work_Hours_Std']] = std_scaler.fit_transform(df[['Job_Satisfaction', 'Work_Hours_Per_Week']])"
      ],
      "cell_type": "code",
      "metadata": {
        "id": "ehLfJzmPaT-s"
      },
      "execution_count": null,
      "outputs": []
    },
    {
      "cell_type": "code",
      "source": [
        "# Manual Standardization\n",
        "def z_score_normalization(column):\n",
        "    return (column - column.mean()) / column.std()\n",
        "df['Job_Satisfaction_Std_Manual'] = z_score_normalization(df['Job_Satisfaction'])\n",
        "df['Work_Hours_Std_Manual'] = z_score_normalization(df['Work_Hours_Per_Week'])\n",
        "\n"
      ],
      "metadata": {
        "id": "AIkVQEh1aVIU"
      },
      "execution_count": 9,
      "outputs": []
    },
    {
      "cell_type": "code",
      "source": [
        "# Display dataset after preprocessing\n",
        "print(\"\\nPreprocessed Dataset:\")\n",
        "print(df.head())"
      ],
      "metadata": {
        "colab": {
          "base_uri": "https://localhost:8080/"
        },
        "id": "grMbPRVFaaAJ",
        "outputId": "4a1fdd4a-6c40-4a4c-89b6-745f9d191288"
      },
      "execution_count": 10,
      "outputs": [
        {
          "output_type": "stream",
          "name": "stdout",
          "text": [
            "\n",
            "Preprocessed Dataset:\n",
            "   Employee_ID   Age    Salary  Job_Satisfaction  Work_Hours_Per_Week  \\\n",
            "0         1001  50.0  108953.0               9.0                   36   \n",
            "1         1002  36.0   82995.0               8.0                   59   \n",
            "2         1003  29.0   70757.0               2.0                   30   \n",
            "3         1004  42.0   39692.0               1.0                   30   \n",
            "4         1005  40.0   75758.0               7.0                   54   \n",
            "\n",
            "   Age_Scaled  Salary_Scaled  Age_Scaled_Manual  Salary_Scaled_Manual  \\\n",
            "0    0.750000       0.877708           0.750000              0.877708   \n",
            "1    0.361111       0.585375           0.361111              0.585375   \n",
            "2    0.166667       0.447554           0.166667              0.447554   \n",
            "3    0.527778       0.097707           0.527778              0.097707   \n",
            "4    0.472222       0.503874           0.472222              0.503874   \n",
            "\n",
            "   Job_Satisfaction_Std_Manual  Work_Hours_Std_Manual  \n",
            "0                     1.263031              -0.896864  \n",
            "1                     0.863338               1.468717  \n",
            "2                    -1.534823              -1.513972  \n",
            "3                    -1.934516              -1.513972  \n",
            "4                     0.463644               0.954461  \n"
          ]
        }
      ]
    }
  ]
}